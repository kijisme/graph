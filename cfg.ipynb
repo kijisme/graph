{
 "cells": [
  {
   "cell_type": "code",
   "execution_count": 1,
   "metadata": {},
   "outputs": [],
   "source": [
    "import subprocess\n",
    "import networkx as nx\n",
    "from slither.slither import Slither"
   ]
  },
  {
   "cell_type": "code",
   "execution_count": 28,
   "metadata": {},
   "outputs": [
    {
     "name": "stdout",
     "output_type": "stream",
     "text": [
      "Switched global version to 0.4.24\n"
     ]
    }
   ],
   "source": [
    "path = '/workspaces/graph/smartbugs/other/crypto_roulette.sol'\n",
    "version = '0.4.24'\n",
    "command = f\"solc-select use {version}\"\n",
    "subprocess.run(command, shell=True)\n",
    "slither = Slither(path)"
   ]
  },
  {
   "cell_type": "code",
   "execution_count": 32,
   "metadata": {},
   "outputs": [
    {
     "name": "stdout",
     "output_type": "stream",
     "text": [
      "NodeType.ENTRYPOINT 0 NodeType.ENTRYPOINT [60]\n"
     ]
    }
   ],
   "source": [
    "def get_token(node):\n",
    "    if node.expression:\n",
    "        return str(node.expression)\n",
    "    else:\n",
    "        if node.type.name == 'VARIABLE':\n",
    "            var = node.variable_declaration\n",
    "            if var.initialized:\n",
    "                return str(var.expression)\n",
    "            else:   \n",
    "                return ' '.join([str(var.type), var.name])\n",
    "        else:\n",
    "            return str(node.type)\n",
    "\n",
    "for contract in slither.contracts:\n",
    "    # 全局变量 var\n",
    "    # for var in contract.variables:\n",
    "        # print('Variable.State', var.visibility, var.name, str(var.type), var.source_mapping.lines)\n",
    "    for function in contract.functions + contract.modifiers:\n",
    "        # 函数节点func\n",
    "        # print(function.function_type, function.visibility, function.full_name, function.source_mapping.lines)\n",
    "        # 局部变量 var\n",
    "        if function.full_name == 'fallback()':\n",
    "            for var in function.variables:\n",
    "                print('Variable.Local', var.visibility, var.name, str(var.type), var.source_mapping.lines)\n",
    "            for node in function.nodes:\n",
    "                # 函数内部节点node\n",
    "                token = get_token(node)\n",
    "                print(str(node.type), node.node_id, token, node.source_mapping.lines)"
   ]
  },
  {
   "cell_type": "code",
   "execution_count": 14,
   "metadata": {},
   "outputs": [
    {
     "name": "stdout",
     "output_type": "stream",
     "text": [
      "CryptoRoulette_play(uint256)_number\n",
      "CryptoRoulette_play(uint256)_game\n"
     ]
    }
   ],
   "source": [
    "import networkx as nx\n",
    "cfg_path = '/workspaces/graph/cfg.gpickle'\n",
    "cfg = nx.read_gpickle(cfg_path)\n",
    "for node_id, data in cfg.nodes(data=True):\n",
    "    if data['node_type'] == 'Variable.Local':\n",
    "        print(node_id)"
   ]
  },
  {
   "cell_type": "code",
   "execution_count": 19,
   "metadata": {},
   "outputs": [
    {
     "name": "stdout",
     "output_type": "stream",
     "text": [
      "CryptoRoulette_lastPlayed [55] use\n",
      "CryptoRoulette_lastPlayed [51] use\n",
      "CryptoRoulette_betPrice [38] use\n",
      "CryptoRoulette_betPrice [18] use\n",
      "CryptoRoulette_gamesPlayed [43] use\n",
      "CryptoRoulette_secretNumber [45] use\n",
      "CryptoRoulette_secretNumber [34] use\n",
      "CryptoRoulette_ownerAddr [28] use\n",
      "CryptoRoulette_ownerAddr [55] use\n"
     ]
    }
   ],
   "source": []
  }
 ],
 "metadata": {
  "kernelspec": {
   "display_name": "Python 3",
   "language": "python",
   "name": "python3"
  },
  "language_info": {
   "codemirror_mode": {
    "name": "ipython",
    "version": 3
   },
   "file_extension": ".py",
   "mimetype": "text/x-python",
   "name": "python",
   "nbconvert_exporter": "python",
   "pygments_lexer": "ipython3",
   "version": "3.10.13"
  }
 },
 "nbformat": 4,
 "nbformat_minor": 2
}
