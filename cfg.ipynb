{
 "cells": [
  {
   "cell_type": "code",
   "execution_count": 1,
   "metadata": {},
   "outputs": [],
   "source": [
    "import subprocess\n",
    "import networkx as nx\n",
    "from slither.slither import Slither"
   ]
  },
  {
   "cell_type": "code",
   "execution_count": 20,
   "metadata": {},
   "outputs": [
    {
     "name": "stdout",
     "output_type": "stream",
     "text": [
      "Switched global version to 0.4.24\n"
     ]
    }
   ],
   "source": [
    "path = '/workspaces/graph/inherite.sol'\n",
    "version = '0.4.24'\n",
    "command = f\"solc-select use {version}\"\n",
    "subprocess.run(command, shell=True)\n",
    "slither = Slither(path)"
   ]
  },
  {
   "cell_type": "code",
   "execution_count": 21,
   "metadata": {},
   "outputs": [
    {
     "name": "stdout",
     "output_type": "stream",
     "text": [
      "Variable.State internal name string [4]\n",
      "Variable.State internal name string [4]\n"
     ]
    }
   ],
   "source": [
    "def get_token(node):\n",
    "    if node.expression:\n",
    "        return str(node.expression)\n",
    "    else:\n",
    "        if node.type.name == 'VARIABLE':\n",
    "            var = node.variable_declaration\n",
    "            if var.initialized:\n",
    "                return str(var.expression)\n",
    "            else:   \n",
    "                return ' '.join([str(var.type), var.name])\n",
    "        else:\n",
    "            return str(node.type)\n",
    "\n",
    "for contract in slither.contracts:\n",
    "    # 全局变量 var\n",
    "    for var in contract.variables:\n",
    "        print('Variable.State', var.visibility, var.name, str(var.type), var.source_mapping.lines)\n",
    "    for function in contract.functions + contract.modifiers:\n",
    "        # 函数节点func\n",
    "        print(function.function_type, function.visibility, function.full_name, function.source_mapping.lines)\n",
    "        # 局部变量 var\n",
    "        for var in function.variables:\n",
    "            print('Variable.Local', var.visibility, var.name, str(var.type), var.source_mapping.lines)\n",
    "        for node in function.nodes:\n",
    "            # 函数内部节点node\n",
    "            token = get_token(node)\n",
    "            print(str(node.type), node.node_id, token, node.source_mapping.lines)"
   ]
  },
  {
   "cell_type": "code",
   "execution_count": 25,
   "metadata": {},
   "outputs": [
    {
     "name": "stdout",
     "output_type": "stream",
     "text": [
      "CryptoRoulette_fallback() {'node_token': 'smartbugs/other/crypto_roulette.sol_CryptoRoulette_fallback()', 'node_type': 'FunctionType.FALLBACK', 'node_expression': 'public FunctionType.FALLBACK fallback()', 'node_code_lines': [60], 'node_vuln_info': None}\n",
      "FunctionType.FALLBACK\n",
      "CryptoRoulette_kill()_0 {'node_token': 'NodeType.ENTRYPOINT_NodeType.ENTRYPOINT', 'node_type': 'NodeType.ENTRYPOINT', 'node_expression': 'NodeType.ENTRYPOINT', 'node_code_lines': [54, 55, 56, 57, 58], 'node_vuln_info': None}\n",
      "NodeType.ENTRYPOINT\n",
      "CryptoRoulette_play(uint256)_1 {'node_token': 'NodeType.EXPRESSION_require(bool)(msg.value >= betPrice && number <= 10)', 'node_type': 'NodeType.EXPRESSION', 'node_expression': 'require(bool)(msg.value >= betPrice && number <= 10)', 'node_code_lines': [38], 'node_vuln_info': None}\n",
      "NodeType.EXPRESSION\n",
      "CryptoRoulette_CryptoRoulette()_0 {'node_token': 'NodeType.ENTRYPOINT_NodeType.ENTRYPOINT', 'node_type': 'NodeType.ENTRYPOINT', 'node_expression': 'NodeType.ENTRYPOINT', 'node_code_lines': [27, 28, 29, 30], 'node_vuln_info': None}\n",
      "NodeType.ENTRYPOINT\n",
      "CryptoRoulette_play(uint256) {'node_token': 'smartbugs/other/crypto_roulette.sol_CryptoRoulette_play(uint256)', 'node_type': 'FunctionType.NORMAL', 'node_expression': 'public FunctionType.NORMAL play(uint256)', 'node_code_lines': [37, 38, 39, 40, 41, 42, 43, 44, 45, 46, 47, 48, 49, 50, 51, 52], 'node_vuln_info': None}\n",
      "FunctionType.NORMAL\n",
      "CryptoRoulette_play(uint256)_game {'node_token': 'play(uint256)_game', 'node_type': 'Variable.Local', 'node_expression': 'internal CryptoRoulette.Game game', 'node_code_lines': [40], 'node_vuln_info': None}\n",
      "Variable.Local\n",
      "CryptoRoulette_kill()_1 {'node_token': 'NodeType.IF_msg.sender == ownerAddr && now > lastPlayed + 86400', 'node_type': 'NodeType.IF', 'node_expression': 'msg.sender == ownerAddr && now > lastPlayed + 86400', 'node_code_lines': [55], 'node_vuln_info': None}\n",
      "NodeType.IF\n",
      "CryptoRoulette_kill()_3 {'node_token': 'NodeType.ENDIF_NodeType.ENDIF', 'node_type': 'NodeType.ENDIF', 'node_expression': 'NodeType.ENDIF', 'node_code_lines': [55, 56, 57], 'node_vuln_info': None}\n",
      "NodeType.ENDIF\n",
      "CryptoRoulette_kill() {'node_token': 'smartbugs/other/crypto_roulette.sol_CryptoRoulette_kill()', 'node_type': 'FunctionType.NORMAL', 'node_expression': 'public FunctionType.NORMAL kill()', 'node_code_lines': [54, 55, 56, 57, 58], 'node_vuln_info': None}\n",
      "FunctionType.NORMAL\n",
      "CryptoRoulette_play(uint256)_6 {'node_token': 'NodeType.IF_number == secretNumber', 'node_type': 'NodeType.IF', 'node_expression': 'number == secretNumber', 'node_code_lines': [45], 'node_vuln_info': None}\n",
      "NodeType.IF\n",
      "CryptoRoulette_play(uint256)_3 {'node_token': 'NodeType.EXPRESSION_game.player = msg.sender', 'node_type': 'NodeType.EXPRESSION', 'node_expression': 'game.player = msg.sender', 'node_code_lines': [41], 'node_vuln_info': None}\n",
      "NodeType.EXPRESSION\n",
      "CryptoRoulette_fallback()_3 {}\n"
     ]
    },
    {
     "ename": "KeyError",
     "evalue": "'node_type'",
     "output_type": "error",
     "traceback": [
      "\u001b[0;31m---------------------------------------------------------------------------\u001b[0m",
      "\u001b[0;31mKeyError\u001b[0m                                  Traceback (most recent call last)",
      "Cell \u001b[0;32mIn[25], line 6\u001b[0m\n\u001b[1;32m      4\u001b[0m \u001b[38;5;28;01mfor\u001b[39;00m node_id, data \u001b[38;5;129;01min\u001b[39;00m cfg\u001b[38;5;241m.\u001b[39mnodes(data\u001b[38;5;241m=\u001b[39m\u001b[38;5;28;01mTrue\u001b[39;00m):\n\u001b[1;32m      5\u001b[0m     \u001b[38;5;28mprint\u001b[39m(node_id, data)\n\u001b[0;32m----> 6\u001b[0m     \u001b[38;5;28mprint\u001b[39m(\u001b[43mdata\u001b[49m\u001b[43m[\u001b[49m\u001b[38;5;124;43m'\u001b[39;49m\u001b[38;5;124;43mnode_type\u001b[39;49m\u001b[38;5;124;43m'\u001b[39;49m\u001b[43m]\u001b[49m)\n",
      "\u001b[0;31mKeyError\u001b[0m: 'node_type'"
     ]
    }
   ],
   "source": [
    "import networkx as nx\n",
    "cfg_path = '/workspaces/graph/cfg.gpickle'\n",
    "cfg = nx.read_gpickle(cfg_path)\n",
    "for node_id, data in cfg.nodes(data=True):\n",
    "    print(node_id, data)\n",
    "    print(data['node_type'])"
   ]
  }
 ],
 "metadata": {
  "kernelspec": {
   "display_name": "Python 3",
   "language": "python",
   "name": "python3"
  },
  "language_info": {
   "codemirror_mode": {
    "name": "ipython",
    "version": 3
   },
   "file_extension": ".py",
   "mimetype": "text/x-python",
   "name": "python",
   "nbconvert_exporter": "python",
   "pygments_lexer": "ipython3",
   "version": "3.10.13"
  }
 },
 "nbformat": 4,
 "nbformat_minor": 2
}
