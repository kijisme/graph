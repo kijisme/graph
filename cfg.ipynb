{
 "cells": [
  {
   "cell_type": "code",
   "execution_count": 1,
   "metadata": {},
   "outputs": [],
   "source": [
    "import subprocess\n",
    "import networkx as nx\n",
    "from slither.slither import Slither"
   ]
  },
  {
   "cell_type": "code",
   "execution_count": 16,
   "metadata": {},
   "outputs": [
    {
     "name": "stdout",
     "output_type": "stream",
     "text": [
      "Switched global version to 0.4.24\n"
     ]
    }
   ],
   "source": [
    "path = '/workspaces/graph/inherite.sol'\n",
    "version = '0.4.24'\n",
    "command = f\"solc-select use {version}\"\n",
    "subprocess.run(command, shell=True)\n",
    "# solc_compiler = f'/workspaces/graph/solc-select/solc-{version}'\n",
    "slither = Slither(path)"
   ]
  },
  {
   "cell_type": "code",
   "execution_count": 35,
   "metadata": {},
   "outputs": [
    {
     "name": "stdout",
     "output_type": "stream",
     "text": [
      "NodeType.ENTRYPOINT 0 NodeType.ENTRYPOINT [4, 5]\n",
      "FunctionType.NORMAL my_func_a()\n",
      "Library library_func()\n",
      "NodeType.ENTRYPOINT 0 NodeType.ENTRYPOINT [10, 11, 12, 13]\n",
      "NodeType.EXPRESSION 1 keccak256()(0) [11]\n",
      "NodeType.EXPRESSION 2 Library.library_func() [12]\n",
      "NodeType.OTHER_ENTRYPOINT 0 val = 0 [8]\n",
      "NodeType.ENTRYPOINT 0 NodeType.ENTRYPOINT [19, 20, 21]\n",
      "NodeType.EXPRESSION 1 a = new ContractA() [20]\n",
      "FunctionType.NORMAL my_func_b()\n",
      "ContractA my_func_a()\n",
      "NodeType.ENTRYPOINT 0 NodeType.ENTRYPOINT [23, 24, 25, 26]\n",
      "NodeType.EXPRESSION 1 a.my_func_a() [24]\n",
      "NodeType.EXPRESSION 2 my_second_func_b() [25]\n",
      "NodeType.ENTRYPOINT 0 NodeType.ENTRYPOINT [28, 29, 30]\n",
      "NodeType.EXPRESSION 1 my_second_func_b() [29]\n",
      "FunctionType.NORMAL my_second_func_b()\n",
      "ContractA val()\n",
      "NodeType.ENTRYPOINT 0 NodeType.ENTRYPOINT [32, 33, 34]\n",
      "NodeType.EXPRESSION 1 a.val() [33]\n"
     ]
    }
   ],
   "source": [
    "def get_token(node):\n",
    "    if node.expression:\n",
    "        return str(node.expression)\n",
    "    else:\n",
    "        if node.type.name == 'VARIABLE':\n",
    "            var = node.variable_declaration\n",
    "            if var.initialized:\n",
    "                return str(var.expression)\n",
    "            else:   \n",
    "                return ' '.join([str(var.type), var.name])\n",
    "        else:\n",
    "            return str(node.type)\n",
    "\n",
    "for contract in slither.contracts:\n",
    "    # 全局变量 var\n",
    "    # print(contract.name)\n",
    "    # for var in contract.variables:\n",
    "    #     print('Variable.State', var.visibility, var.name, str(var.type), var.source_mapping.lines)\n",
    "    for function in contract.functions + contract.modifiers:\n",
    "        # 函数节点func\n",
    "        # print(function.function_type, function.visibility, function.full_name, function.source_mapping.lines)\n",
    "        if function.high_level_calls:\n",
    "            print(function.function_type, function.full_name)\n",
    "            for external in function.high_level_calls:\n",
    "                external_contract, external_function = external\n",
    "                print(external_contract.name, external_function.full_name)\n",
    "        # 局部变量 var\n",
    "        # if function.full_name == 'fallback()':\n",
    "        for var in function.variables:\n",
    "            print('Variable.Local', var.visibility, var.name, str(var.type), var.source_mapping.lines)\n",
    "        for node in function.nodes:\n",
    "            # 函数内部节点node\n",
    "            token = get_token(node)\n",
    "            print(str(node.type), node.node_id, token, node.source_mapping.lines)"
   ]
  },
  {
   "cell_type": "code",
   "execution_count": 3,
   "metadata": {},
   "outputs": [
    {
     "name": "stdout",
     "output_type": "stream",
     "text": [
      "BIGBOMBv2__symbol\n",
      "BIGBOMBv2__decimals\n",
      "BIGBOMBv2__name\n"
     ]
    }
   ],
   "source": [
    "import networkx as nx\n",
    "cfg_path = '/workspaces/graph/cfg.gpickle'\n",
    "cfg = nx.read_gpickle(cfg_path)\n",
    "for node_id, data in cfg.nodes(data=True):\n",
    "    if not data:\n",
    "        print(node_id)"
   ]
  },
  {
   "cell_type": "code",
   "execution_count": 32,
   "metadata": {},
   "outputs": [
    {
     "name": "stdout",
     "output_type": "stream",
     "text": [
      "Switched global version to 0.4.24\n"
     ]
    },
    {
     "data": {
      "text/plain": [
       "<slither.utils.output.Output at 0x7f39a17c9030>"
      ]
     },
     "execution_count": 32,
     "metadata": {},
     "output_type": "execute_result"
    }
   ],
   "source": [
    "# 生成cg\n",
    "from slither.printers.call.call_graph import PrinterCallGraph\n",
    "\n",
    "path = '/workspaces/graph/inherite.sol'\n",
    "version = '0.4.24'\n",
    "command = f\"solc-select use {version}\"\n",
    "subprocess.run(command, shell=True)\n",
    "# solc_compiler = f'/workspaces/graph/solc-select/solc-{version}'\n",
    "slither = Slither(path)\n",
    "\n",
    "call_graph_printer = PrinterCallGraph(slither, None)\n",
    "call_graph_printer.output('.dot')"
   ]
  },
  {
   "cell_type": "code",
   "execution_count": 34,
   "metadata": {},
   "outputs": [
    {
     "name": "stdout",
     "output_type": "stream",
     "text": [
      "Switched global version to 0.4.24\n"
     ]
    },
    {
     "data": {
      "text/plain": [
       "<slither.utils.output.Output at 0x7f39ab93b190>"
      ]
     },
     "execution_count": 34,
     "metadata": {},
     "output_type": "execute_result"
    }
   ],
   "source": [
    "# 生成cfg\n",
    "from slither.printers.functions.cfg import CFG\n",
    "\n",
    "path = '/workspaces/graph/inherite.sol'\n",
    "version = '0.4.24'\n",
    "command = f\"solc-select use {version}\"\n",
    "subprocess.run(command, shell=True)\n",
    "# solc_compiler = f'/workspaces/graph/solc-select/solc-{version}'\n",
    "slither = Slither(path)\n",
    "\n",
    "cfg_printer = CFG(slither, None)\n",
    "cfg_printer.output('inherite')"
   ]
  }
 ],
 "metadata": {
  "kernelspec": {
   "display_name": "Python 3",
   "language": "python",
   "name": "python3"
  },
  "language_info": {
   "codemirror_mode": {
    "name": "ipython",
    "version": 3
   },
   "file_extension": ".py",
   "mimetype": "text/x-python",
   "name": "python",
   "nbconvert_exporter": "python",
   "pygments_lexer": "ipython3",
   "version": "3.10.13"
  }
 },
 "nbformat": 4,
 "nbformat_minor": 2
}
